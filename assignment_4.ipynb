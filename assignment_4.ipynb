{
 "cells": [
  {
   "cell_type": "code",
   "execution_count": 1,
   "metadata": {},
   "outputs": [
    {
     "name": "stdout",
     "output_type": "stream",
     "text": [
      "first_name : ajay\n",
      "last_name : kumar\n",
      "age : 20\n",
      "city : hyderabad\n",
      "\n",
      "\n",
      "after addition\n",
      "\n",
      "\n",
      "first_name : ajay\n",
      "last_name : kumar\n",
      "age : 20\n",
      "city : hyderabad\n",
      "qualification : bachelor of engineering\n",
      "\n",
      "\n",
      "after update\n",
      "\n",
      "\n",
      "first_name : ajay\n",
      "last_name : kumar\n",
      "age : 20\n",
      "city : hyderabad\n",
      "qualification : PHD\n",
      "\n",
      "\n",
      "after deletion\n",
      "\n",
      "\n",
      "first_name : ajay\n",
      "last_name : kumar\n",
      "age : 20\n",
      "city : hyderabad\n"
     ]
    }
   ],
   "source": [
    "information = {\"first_name\":\"ajay\",\"last_name\":\"kumar\",\"age\":\"20\",\"city\":\"hyderabad\"}\n",
    "for keys,values in information.items():\n",
    "    print(keys+\" :\",values)\n",
    "print(\"\\n\")\n",
    "print(\"after addition\")\n",
    "print(\"\\n\")\n",
    "information[\"qualification\"]=\"bachelor of engineering\"\n",
    "for keys,values in information.items():\n",
    "    print(keys+\" :\",values)\n",
    "print(\"\\n\")\n",
    "print(\"after update\")\n",
    "print(\"\\n\")\n",
    "information[\"qualification\"]=\"PHD\"\n",
    "for keys,values in information.items():\n",
    "    print(keys+\" :\",values)\n",
    "print(\"\\n\")\n",
    "print(\"after deletion\")\n",
    "print(\"\\n\")  \n",
    "del information[\"qualification\"]\n",
    "for keys,values in information.items():\n",
    "    print(keys+\" :\",values)\n",
    "\n",
    "\n",
    "\n"
   ]
  },
  {
   "cell_type": "code",
   "execution_count": 2,
   "metadata": {},
   "outputs": [
    {
     "name": "stdout",
     "output_type": "stream",
     "text": [
      "hyderabad : {'country': 'pakistan', 'population': '1.7 million', 'fact': 'famous for bangles'}\n",
      "Agra : {'country': 'india', 'population': '20 million', 'fact': 'taj mahal'}\n",
      "dallol : {'country': 'ethiopia', 'population': '22 million', 'fact': 'hottest place on earth'}\n"
     ]
    }
   ],
   "source": [
    "cities = {\n",
    "    \"hyderabad\": {\n",
    "        \"country\":\"pakistan\",\n",
    "        \"population\":\"1.7 million\",\n",
    "        \"fact\":\"famous for bangles\",\n",
    "    },\n",
    "    \"Agra\": {\n",
    "        \"country\":\"india\",\n",
    "        \"population\":\"20 million\",\n",
    "        \"fact\":\"taj mahal\",\n",
    "    },\n",
    "    \"dallol\": {\n",
    "        \"country\":\"ethiopia\",\n",
    "        \"population\":\"22 million\",\n",
    "        \"fact\":\"hottest place on earth\",\n",
    "    },\n",
    "}\n",
    "for keys,values in cities.items():\n",
    "    print(keys+\" :\",values)"
   ]
  },
  {
   "cell_type": "code",
   "execution_count": 3,
   "metadata": {},
   "outputs": [
    {
     "name": "stdout",
     "output_type": "stream",
     "text": [
      "enter yor age or press 0 to quit : 9\n",
      "your ticket price is $10\n",
      "enter yor age or press 0 to quit : 0\n",
      "inquiry quit\n"
     ]
    }
   ],
   "source": [
    "user_input = \"\"\n",
    "while user_input != 0:\n",
    "    user_input = int(input(\"enter yor age or press 0 to quit : \"))\n",
    "    if user_input != 0:\n",
    "        if user_input < 3:\n",
    "            print(\"your ticket is free\")\n",
    "        elif user_input>=3 and user_input<=12:\n",
    "            print(\"your ticket price is $10\")\n",
    "        elif user_input>12:\n",
    "            print(\"your ticket price is $15\")\n",
    "        else:\n",
    "            print(\"invalid age\")\n",
    "    else:\n",
    "        print(\"inquiry quit\")\n",
    "    \n"
   ]
  },
  {
   "cell_type": "code",
   "execution_count": 4,
   "metadata": {},
   "outputs": [
    {
     "name": "stdout",
     "output_type": "stream",
     "text": [
      "one of my favourite book is  hardy boys\n"
     ]
    }
   ],
   "source": [
    "def favourite_book(title):\n",
    "    print(\"one of my favourite book is \",title)\n",
    "favourite_book(\"hardy boys\")    \n",
    "    "
   ]
  },
  {
   "cell_type": "code",
   "execution_count": 5,
   "metadata": {},
   "outputs": [
    {
     "name": "stdout",
     "output_type": "stream",
     "text": [
      "enter your guess12\n",
      "your guessed number is less than the hidden number\n",
      "enter your guess114\n",
      "your guessed number is greater than hidden number\n",
      "enter your guess13\n",
      "your guessed number is less than the hidden number\n",
      "your chances are over sorry\n"
     ]
    }
   ],
   "source": [
    "import random\n",
    "chance =3\n",
    "guess_taken = 0\n",
    "number = random.randint(1,30)\n",
    "while chance>0:\n",
    "    guess=int(input(\"enter your guess\"))\n",
    "    if guess==number:\n",
    "        print(\"correct number you won\")\n",
    "        break;\n",
    "    elif guess<number:\n",
    "        print(\"your guessed number is less than the hidden number\")\n",
    "        chance=chance-1\n",
    "    elif guess>number:\n",
    "        print(\"your guessed number is greater than hidden number\")\n",
    "        chance=chance-1\n",
    "    else:\n",
    "        print(\"invalid\")\n",
    "if chance==0:\n",
    "    print(\"your chances are over sorry\")\n",
    "    \n"
   ]
  },
  {
   "cell_type": "code",
   "execution_count": null,
   "metadata": {},
   "outputs": [],
   "source": []
  }
 ],
 "metadata": {
  "kernelspec": {
   "display_name": "Python 3",
   "language": "python",
   "name": "python3"
  },
  "language_info": {
   "codemirror_mode": {
    "name": "ipython",
    "version": 3
   },
   "file_extension": ".py",
   "mimetype": "text/x-python",
   "name": "python",
   "nbconvert_exporter": "python",
   "pygments_lexer": "ipython3",
   "version": "3.7.4"
  }
 },
 "nbformat": 4,
 "nbformat_minor": 2
}
