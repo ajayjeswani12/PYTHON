{
 "cells": [
  {
   "cell_type": "code",
   "execution_count": 1,
   "metadata": {},
   "outputs": [
    {
     "name": "stdout",
     "output_type": "stream",
     "text": [
      "twinkle twinkle little star\n",
      "     how i wonder what you are\n",
      "            up above the what so high\n",
      "            like the diamond in the sky\n",
      "twinkle twinkle little star\n",
      "      how i wonder what you are\n"
     ]
    }
   ],
   "source": [
    "print(\"twinkle twinkle little star\")\n",
    "print( \"     how i wonder what you are\")\n",
    "print(\"            up above the what so high\")\n",
    "print(\"            like the diamond in the sky\")\n",
    "print(\"twinkle twinkle little star\")  \n",
    "print(\"      how i wonder what you are\")"
   ]
  },
  {
   "cell_type": "code",
   "execution_count": 2,
   "metadata": {},
   "outputs": [
    {
     "name": "stdout",
     "output_type": "stream",
     "text": [
      "3.7.4\n"
     ]
    }
   ],
   "source": [
    "import platform\n",
    "print(platform.python_version())"
   ]
  },
  {
   "cell_type": "code",
   "execution_count": 3,
   "metadata": {},
   "outputs": [
    {
     "name": "stdout",
     "output_type": "stream",
     "text": [
      "Current date and time : \n",
      "2019-11-21 23:03:17\n"
     ]
    }
   ],
   "source": [
    "import datetime\n",
    "now = datetime.datetime.now()\n",
    "print (\"Current date and time : \")\n",
    "print (now.strftime(\"%Y-%m-%d %H:%M:%S\"))"
   ]
  },
  {
   "cell_type": "code",
   "execution_count": 4,
   "metadata": {},
   "outputs": [
    {
     "name": "stdout",
     "output_type": "stream",
     "text": [
      "Enter the radius of the circle :5\n",
      "Area of the circle is : 78.5\n"
     ]
    }
   ],
   "source": [
    "pie_value = 3.14\n",
    "radius = float(input('Enter the radius of the circle :'))\n",
    "area = pie_value * radius * radius\n",
    "print(\"Area of the circle is :\",area)"
   ]
  },
  {
   "cell_type": "code",
   "execution_count": 6,
   "metadata": {},
   "outputs": [
    {
     "name": "stdout",
     "output_type": "stream",
     "text": [
      "enter your first name and last name :ajay kumar\n",
      "ramuk yaja\n"
     ]
    }
   ],
   "source": [
    "name=input(\"enter your first name and last name :\")\n",
    "temp = ''\n",
    "index = len(name)\n",
    "while index > 0:\n",
    "        temp += name[ index - 1 ]\n",
    "        index = index - 1\n",
    "print(temp)    "
   ]
  },
  {
   "cell_type": "code",
   "execution_count": 8,
   "metadata": {},
   "outputs": [
    {
     "name": "stdout",
     "output_type": "stream",
     "text": [
      "enter first number: 5\n",
      "enter second number: 7\n",
      "sum: 12\n"
     ]
    }
   ],
   "source": [
    "a = int(input(\"enter first number: \"))\n",
    "b = int(input(\"enter second number: \"))\n",
    "sum = a + b\n",
    "print(\"sum:\", sum)"
   ]
  },
  {
   "cell_type": "code",
   "execution_count": null,
   "metadata": {},
   "outputs": [],
   "source": []
  }
 ],
 "metadata": {
  "kernelspec": {
   "display_name": "Python 3",
   "language": "python",
   "name": "python3"
  },
  "language_info": {
   "codemirror_mode": {
    "name": "ipython",
    "version": 3
   },
   "file_extension": ".py",
   "mimetype": "text/x-python",
   "name": "python",
   "nbconvert_exporter": "python",
   "pygments_lexer": "ipython3",
   "version": "3.7.4"
  }
 },
 "nbformat": 4,
 "nbformat_minor": 2
}
