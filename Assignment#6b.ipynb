{
 "cells": [
  {
   "cell_type": "code",
   "execution_count": 1,
   "metadata": {},
   "outputs": [
    {
     "name": "stdout",
     "output_type": "stream",
     "text": [
      "CAR NAME :  Cultus\n",
      "CAR Price :  190000\n",
      "Registration Year :  2018\n"
     ]
    }
   ],
   "source": [
    "'''Question 5: \n",
    "Write a code in python in which create a class named it Car which have 5 attributes\n",
    "such like (model, color and name etc.) and 3 methods. And create 5 object instances from that class '''\n",
    "class Car:\n",
    "    def __init__(self,model,color,name,price,registration_year):\n",
    "        self.model = model\n",
    "        self.color = color\n",
    "        self.name = name\n",
    "        self.price = price\n",
    "        self.R_year = registration_year\n",
    "    def return_name(self):\n",
    "        return self.name\n",
    "    def return_price(self):\n",
    "        return self.price\n",
    "    def return_year(self):\n",
    "        return self.R_year\n",
    "C1 = Car(2010,\"White\",\"Carolla\",170000,2009)\n",
    "C2 = Car(2012,\"BLUE\",\"civic\",200000,2010)\n",
    "C3 = Car(2013,\"White\",\"honda\",300000,2011)\n",
    "C4 = Car(2015,\"White\",\"Mehran\",700000,2014)\n",
    "C1 = Car(2018,\"White\",\"Cultus\",190000,2018)\n",
    "print(\"CAR NAME : \",C1.return_name())\n",
    "print(\"CAR Price : \",C1.return_price())\n",
    "print(\"Registration Year : \",C1.return_year())"
   ]
  },
  {
   "cell_type": "code",
   "execution_count": null,
   "metadata": {},
   "outputs": [],
   "source": []
  }
 ],
 "metadata": {
  "kernelspec": {
   "display_name": "Python 3",
   "language": "python",
   "name": "python3"
  },
  "language_info": {
   "codemirror_mode": {
    "name": "ipython",
    "version": 3
   },
   "file_extension": ".py",
   "mimetype": "text/x-python",
   "name": "python",
   "nbconvert_exporter": "python",
   "pygments_lexer": "ipython3",
   "version": "3.7.4"
  }
 },
 "nbformat": 4,
 "nbformat_minor": 2
}
