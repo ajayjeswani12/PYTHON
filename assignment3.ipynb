{
 "cells": [
  {
   "cell_type": "code",
   "execution_count": 6,
   "metadata": {},
   "outputs": [
    {
     "name": "stdout",
     "output_type": "stream",
     "text": [
      " Operations -\n",
      "1. Add\n",
      "2. Subtract\n",
      "3. Multiply\n",
      "4. Divide\n",
      "5. power\n",
      "\n",
      "Enter first number: 6\n",
      "Enter second number: 3\n",
      "enter the number of opertion to be performed3\n",
      "multiplicaion of two numbers =  18\n"
     ]
    }
   ],
   "source": [
    "print(\" Operations -\\n\" \n",
    "        \"1. Add\\n\" \n",
    "        \"2. Subtract\\n\"\n",
    "        \"3. Multiply\\n\" \n",
    "        \"4. Divide\\n\"\n",
    "        \"5. power\\n\")\n",
    "\n",
    "  \n",
    "a = int(input(\"Enter first number: \")) \n",
    "b = int(input(\"Enter second number: \")) \n",
    "c = input(\"enter the number of opertion to be performed\")\n",
    "if c=='1':\n",
    "    print(\"sum of two number = \",a+b)\n",
    "elif c=='2':\n",
    "    print(\"subtraction of two numbers =\",a-b)\n",
    "elif c=='3':\n",
    "    print(\"multiplicaion of two numbers = \",a*b)\n",
    "elif c=='4' :\n",
    "    print(\"division of two numbers = \",a/b)\n",
    "elif c=='5':\n",
    "    print(a,\"to the power of \",b,\"=\",a ** b)\n",
    "else :\n",
    "    print(\"invalid input\")\n"
   ]
  },
  {
   "cell_type": "code",
   "execution_count": 26,
   "metadata": {},
   "outputs": [
    {
     "name": "stdout",
     "output_type": "stream",
     "text": [
      "enter your number that you want to search in list6\n",
      "yes number exist in list\n"
     ]
    }
   ],
   "source": [
    "check_list=[2,5,4,7,6,8]\n",
    "number = int(input(\"enter your number that you want to search in list\"))\n",
    "for a in check_list:\n",
    "    if a==number:\n",
    "        print(\"yes number exist in list\")\n",
    "        break\n",
    "if a!=number:\n",
    "    print(\"number doesn't exist\")\n",
    "        \n"
   ]
  },
  {
   "cell_type": "code",
   "execution_count": 38,
   "metadata": {},
   "outputs": [
    {
     "name": "stdout",
     "output_type": "stream",
     "text": [
      "java\n",
      "love python\n"
     ]
    }
   ],
   "source": [
    "my_dictionary = {0:\"python\", 1:\"c++\",2:\"java\"}\n",
    "print(my_dictionary[2])\n",
    "my_dictionary[2]=\"love python\"\n",
    "print(my_dictionary[2])"
   ]
  },
  {
   "cell_type": "code",
   "execution_count": 39,
   "metadata": {},
   "outputs": [
    {
     "name": "stdout",
     "output_type": "stream",
     "text": [
      "Total sum of values in the dictionary:\n",
      "879\n"
     ]
    }
   ],
   "source": [
    "d={'A':100,'B':540,'C':239}\n",
    "print(\"Total sum of values in the dictionary:\")\n",
    "print(sum(d.values()))"
   ]
  },
  {
   "cell_type": "code",
   "execution_count": 43,
   "metadata": {},
   "outputs": [
    {
     "name": "stdout",
     "output_type": "stream",
     "text": [
      "these are the values which are repeated more than once\n",
      "15\n",
      "20\n",
      "20\n",
      "30\n",
      "40\n",
      "50\n"
     ]
    }
   ],
   "source": [
    "my_list = [20,30,20,30,40,50,15,11,20,40,50,15]\n",
    "my_list.sort()\n",
    "print(\"these are the values which are repeated more than once\")\n",
    "for i in range (len (my_list) -1):\n",
    " \tif my_list[i] == my_list[i+1]: \n",
    " \t    print (my_list[i])"
   ]
  },
  {
   "cell_type": "code",
   "execution_count": 50,
   "metadata": {},
   "outputs": [
    {
     "name": "stdout",
     "output_type": "stream",
     "text": [
      "enter your key =  a\n",
      "Present\n",
      "value = 100\n"
     ]
    }
   ],
   "source": [
    "dict = {'a': 100, 'b':200, 'c':300} \n",
    "key=input(\"enter your key =  \")\n",
    "if key in dict.keys():\n",
    "    print(\"Present\") \n",
    "    print(\"value =\", dict[key]) \n",
    "else:\n",
    "    print(\"Not present\")\n",
    "        \n",
    "\n"
   ]
  },
  {
   "cell_type": "code",
   "execution_count": null,
   "metadata": {},
   "outputs": [],
   "source": []
  },
  {
   "cell_type": "code",
   "execution_count": null,
   "metadata": {},
   "outputs": [],
   "source": []
  }
 ],
 "metadata": {
  "kernelspec": {
   "display_name": "Python 3",
   "language": "python",
   "name": "python3"
  },
  "language_info": {
   "codemirror_mode": {
    "name": "ipython",
    "version": 3
   },
   "file_extension": ".py",
   "mimetype": "text/x-python",
   "name": "python",
   "nbconvert_exporter": "python",
   "pygments_lexer": "ipython3",
   "version": "3.7.4"
  }
 },
 "nbformat": 4,
 "nbformat_minor": 2
}
