{
 "cells": [
  {
   "cell_type": "code",
   "execution_count": 7,
   "metadata": {},
   "outputs": [
    {
     "name": "stdin",
     "output_type": "stream",
     "text": [
      "enter your physics  marks 99\n",
      "enter your maths  marks 77\n",
      "enter your chemsitry  marks 99\n",
      "enter your biology  marks 88\n",
      "enter your history  marks 99\n"
     ]
    },
    {
     "name": "stdout",
     "output_type": "stream",
     "text": [
      "Grade: A\n"
     ]
    }
   ],
   "source": [
    "physics=int(input(\"enter your physics  marks\"))\n",
    "maths=int(input(\"enter your maths  marks\"))\n",
    "chemistry=int(input(\"enter your chemsitry  marks\"))\n",
    "biology=int(input(\"enter your biology  marks\"))\n",
    "history=int(input(\"enter your history  marks\"))\n",
    "total= physics+maths+biology+history+chemistry\n",
    "percentage=((total/500)*100)\n",
    "if(percentage>=90):\n",
    "    print(\"Grade: A\")\n",
    "elif(percentage>=80 and percentage<90):\n",
    "    print(\"Grade: B\")\n",
    "elif(percentage>=70 and percentage<80):\n",
    "    print(\"Grade: C\")\n",
    "elif(percentage>=60 and percentage<70):\n",
    "    print(\"Grade: D\")\n",
    "else:\n",
    "    print(\"Grade: F\")\n"
   ]
  },
  {
   "cell_type": "code",
   "execution_count": 18,
   "metadata": {},
   "outputs": [
    {
     "name": "stdin",
     "output_type": "stream",
     "text": [
      "enter the number 29\n"
     ]
    },
    {
     "name": "stdout",
     "output_type": "stream",
     "text": [
      "the number is odd\n"
     ]
    }
   ],
   "source": [
    "number = int(input(\"enter the number\"))\n",
    "if (number%2)==0:\n",
    " print(\"the number is even\")\n",
    "else: \n",
    " print(\"the number is odd\")"
   ]
  },
  {
   "cell_type": "code",
   "execution_count": 24,
   "metadata": {},
   "outputs": [
    {
     "name": "stdout",
     "output_type": "stream",
     "text": [
      "length of list A is 6\n"
     ]
    }
   ],
   "source": [
    "A = [1,2,3,4,5,7]\n",
    "print(\"length of list A is\",len(A))"
   ]
  },
  {
   "cell_type": "code",
   "execution_count": 27,
   "metadata": {},
   "outputs": [
    {
     "name": "stdout",
     "output_type": "stream",
     "text": [
      "length of list A is 22\n"
     ]
    }
   ],
   "source": [
    "A = [1,2,3,4,5,7]\n",
    "print(\"Sum of list A is\",sum(A))"
   ]
  },
  {
   "cell_type": "code",
   "execution_count": 30,
   "metadata": {},
   "outputs": [
    {
     "name": "stdout",
     "output_type": "stream",
     "text": [
      "largest number  of list A is 99\n"
     ]
    }
   ],
   "source": [
    "A = [1,44,3,99,5,7]\n",
    "print(\"largest number  of list A is\",max(A))"
   ]
  },
  {
   "cell_type": "code",
   "execution_count": 40,
   "metadata": {},
   "outputs": [
    {
     "name": "stdout",
     "output_type": "stream",
     "text": [
      "1\n",
      "1\n",
      "4\n",
      "2\n",
      "3\n"
     ]
    }
   ],
   "source": [
    "a=[1,1,55,4,2,7,3,5,8,13,21,34,55,89]\n",
    "for x in range(len(a)):\n",
    " if a[x]<5:\n",
    "  print(a[x])"
   ]
  },
  {
   "cell_type": "code",
   "execution_count": null,
   "metadata": {},
   "outputs": [],
   "source": []
  }
 ],
 "metadata": {
  "kernelspec": {
   "display_name": "Python 3",
   "language": "python",
   "name": "python3"
  },
  "language_info": {
   "codemirror_mode": {
    "name": "ipython",
    "version": 3
   },
   "file_extension": ".py",
   "mimetype": "text/x-python",
   "name": "python",
   "nbconvert_exporter": "python",
   "pygments_lexer": "ipython3",
   "version": "3.7.4"
  }
 },
 "nbformat": 4,
 "nbformat_minor": 4
}
